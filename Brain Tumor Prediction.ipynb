{
 "cells": [
  {
   "cell_type": "code",
   "execution_count": 2,
   "id": "7ff87314",
   "metadata": {},
   "outputs": [
    {
     "name": "stdout",
     "output_type": "stream",
     "text": [
      "loading Roboflow workspace...\n",
      "loading Roboflow project...\n",
      "{'predictions': [{'x': 119.5, 'y': 114.0, 'width': 205.0, 'height': 174.0, 'confidence': 0.7958066463470459, 'class': 'No-Brain-tumor', 'class_id': 1, 'detection_id': '06297eea-7cb3-4223-9ed9-c87feeb6097b', 'image_path': 'Tr-no_0010.jpg', 'prediction_type': 'ObjectDetectionModel'}], 'image': {'width': '225', 'height': '225'}}\n"
     ]
    }
   ],
   "source": [
    "from roboflow import Roboflow\n",
    "rf = Roboflow(api_key=\"1GavU7QHbTByv9cvHwfU\")\n",
    "project = rf.workspace().project(\"brain-tumor-detection-twjnn\")\n",
    "model = project.version(1).model\n",
    "\n",
    "# infer on a local image\n",
    "print(model.predict(\"Tr-no_0010.jpg\", confidence=40, overlap=30).json())\n",
    "\n",
    "# visualize your prediction\n",
    "model.predict(\"Tr-no_0010.jpg\", confidence=40, overlap=30).save(\"predicted(3).jpg\")\n",
    "\n",
    "# infer on an image hosted elsewhere\n",
    "# print(model.predict(\"URL_OF_YOUR_IMAGE\", hosted=True, confidence=40, overlap=30).json())"
   ]
  },
  {
   "cell_type": "code",
   "execution_count": null,
   "id": "4723db6f",
   "metadata": {},
   "outputs": [],
   "source": [
    "\n"
   ]
  },
  {
   "cell_type": "code",
   "execution_count": null,
   "id": "65883900",
   "metadata": {},
   "outputs": [],
   "source": []
  }
 ],
 "metadata": {
  "kernelspec": {
   "display_name": "Python 3 (ipykernel)",
   "language": "python",
   "name": "python3"
  },
  "language_info": {
   "codemirror_mode": {
    "name": "ipython",
    "version": 3
   },
   "file_extension": ".py",
   "mimetype": "text/x-python",
   "name": "python",
   "nbconvert_exporter": "python",
   "pygments_lexer": "ipython3",
   "version": "3.9.13"
  }
 },
 "nbformat": 4,
 "nbformat_minor": 5
}
